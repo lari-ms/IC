{
  "nbformat": 4,
  "nbformat_minor": 0,
  "metadata": {
    "colab": {
      "provenance": [],
      "gpuType": "T4"
    },
    "kernelspec": {
      "name": "python3",
      "display_name": "Python 3"
    },
    "language_info": {
      "name": "python"
    },
    "accelerator": "GPU"
  },
  "cells": [
    {
      "cell_type": "code",
      "execution_count": null,
      "metadata": {
        "id": "BajWPE8h_TMC"
      },
      "outputs": [],
      "source": []
    },
    {
      "cell_type": "code",
      "source": [
        "import pandas as pd\n",
        "import numpy as np\n",
        "import os\n",
        "import matplotlib.pyplot as plt\n",
        "import tensorflow as tf\n",
        "from tensorflow.keras.applications.efficientnet import EfficientNetB3, preprocess_input\n",
        "from tensorflow.keras.callbacks import ModelCheckpoint, EarlyStopping\n",
        "from tensorflow.keras.models import Model\n",
        "from tensorflow.keras.utils import to_categorical\n",
        "from tensorflow.keras.layers import Dense, Input, GlobalAveragePooling2D, Dropout, RandomFlip, RandomRotation, RandomZoom\n",
        "from tensorflow.keras.preprocessing.image import ImageDataGenerator\n",
        "from tensorflow.keras.optimizers import Adam\n",
        "import warnings\n",
        "import re\n",
        "# Suppress warnings\n",
        "warnings.filterwarnings(\"ignore\")\n",
        "\n",
        "print(\"Done \")"
      ],
      "metadata": {
        "colab": {
          "base_uri": "https://localhost:8080/"
        },
        "id": "VBiK8e7wAPli",
        "outputId": "5e747037-3563-443a-b2a6-87f740575ff1"
      },
      "execution_count": null,
      "outputs": [
        {
          "output_type": "stream",
          "name": "stdout",
          "text": [
            "Done \n"
          ]
        }
      ]
    },
    {
      "cell_type": "code",
      "source": [
        "seed = 123\n",
        "np.random.seed(seed)\n",
        "tf.random.set_seed(seed)\n",
        "\n",
        "#loading a dataframe\n",
        "def load_dataframe(main_folder_path)-> pd.DataFrame:\n",
        "  df_all = pd.DataFrame()\n",
        "  for dirname, _, filenames in os.walk(main_path):\n",
        "      paths = [dirname + '/' + filename for filename in filenames]\n",
        "      folder_name = os.path.split(dirname)[-1]\n",
        "      df_all = pd.concat([df_all, pd.DataFrame({'path': paths, 'class': folder_name})], ignore_index=True)\n",
        "\n",
        "  return df_all\n",
        "\n",
        "# Directory path\n",
        "test_set_path = '/content/drive/MyDrive/archive/test'\n",
        "train_set_path = '/content/drive/MyDrive/archive/train'\n",
        "\n",
        "#creating dataframes\n",
        "dfs = []\n",
        "for main_path in [train_set_path, test_set_path]:\n",
        "  df = load_dataframe(main_path)\n",
        "  dfs.append(df)\n",
        "\n",
        "dfs\n",
        "train_df, test_df = dfs[0], dfs[1]"
      ],
      "metadata": {
        "id": "VRrDhws5BSjl"
      },
      "execution_count": null,
      "outputs": []
    },
    {
      "cell_type": "code",
      "source": [
        "# Define image size and batch size\n",
        "imgSize = (150, 150)\n",
        "batch_size = 20\n",
        "randomState = seed\n",
        "\n",
        "#combining all dfs into one to re-split w a different proportion\n",
        "df_all = pd.concat([train_df, test_df], axis=0)\n",
        "\n",
        "#splitting\n",
        "from sklearn.model_selection import train_test_split\n",
        "test_df, train_df = train_test_split(df_all, train_size=70, random_state=1, stratify=df_all['class'])\n",
        "train_val_df, train_df = train_test_split(train_df, train_size=70, random_state=1, stratify=train_df['class'])\n",
        "\n",
        "print(f'train ds dpts: {len(train_df)}')\n",
        "print(f'train val dpts: {len(train_val_df)}')\n",
        "print(f'test dpts: {len(test_df)}')\n",
        "print(f'total: {len(df_all)}')\n"
      ],
      "metadata": {
        "colab": {
          "base_uri": "https://localhost:8080/"
        },
        "id": "mgswWaLkB-mO",
        "outputId": "68e60864-eae8-4bc7-acff-862e973da755"
      },
      "execution_count": null,
      "outputs": [
        {
          "output_type": "stream",
          "name": "stdout",
          "text": [
            "train ds dpts: 557\n",
            "train val dpts: 70\n",
            "test dpts: 70\n",
            "total: 697\n"
          ]
        }
      ]
    },
    {
      "cell_type": "code",
      "source": [
        "#function that returns a tensorflow dataset based on a given dataframe\n",
        "def create_tfDataset(dataframe: pd.DataFrame, imgSize, batchSize: int, numClasses) -> tf.data.Dataset:\n",
        "    #onehot encoding the class labels\n",
        "    paths = dataframe['path']\n",
        "    labels = dataframe['class'].replace({'cats': 0, 'dogs': 1})\n",
        "\n",
        "    labels = to_categorical(pd.Series.to_list(labels), num_classes=numClasses)#onehot encoding\n",
        "\n",
        "    # Creating a new TensorFlow dataset\n",
        "    tfDataframe = tf.data.Dataset.from_tensor_slices((paths, labels))\n",
        "    tfDataframe = tfDataframe.map(lambda x, y: (tf.io.read_file(x), y))#reading imgs?\n",
        "    tfDataframe = tfDataframe.map(lambda x, y: (tf.io.decode_jpeg(x, channels=3), y))\n",
        "\n",
        "    # Resize images\n",
        "    tfDataframe = tfDataframe.map(lambda x, y: (tf.image.resize(x, imgSize), y))\n",
        "\n",
        "    # Caching, batching, and prefetching\n",
        "    tfDataframe = tfDataframe.cache().batch(batchSize, drop_remainder=True).prefetch(tf.data.AUTOTUNE)\n",
        "\n",
        "    return tfDataframe"
      ],
      "metadata": {
        "id": "b5rR8ampCAao"
      },
      "execution_count": null,
      "outputs": []
    },
    {
      "cell_type": "code",
      "source": [
        "def augment_imgs(ds, batchSize): #this is used for a single tuple w an img and a corresponding label\n",
        "t"
      ],
      "metadata": {
        "id": "AzojqwKVCNk9"
      },
      "execution_count": null,
      "outputs": []
    },
    {
      "cell_type": "code",
      "source": [
        "#creating datasets\n",
        "test_ds = create_tfDataset(test_df, imgSize, batch_size,2)\n",
        "train_ds = create_tfDataset(train_df, imgSize, batch_size,2)\n",
        "train_val_ds = create_tfDataset(train_val_df, imgSize, batch_size,2)\n",
        "\n",
        "#aumentation\n",
        "train_ds = augment_imgs(train_ds, batch_size)"
      ],
      "metadata": {
        "id": "oznIva3OCQ88"
      },
      "execution_count": null,
      "outputs": []
    },
    {
      "cell_type": "markdown",
      "source": [
        "**Main development**"
      ],
      "metadata": {
        "id": "TMSLTijQDHnJ"
      }
    },
    {
      "cell_type": "code",
      "source": [
        "\n",
        "## defining a function that creates the used model\n",
        "def create_efficientnetb3_model(input_shape, num_classes=2):\n",
        "    ## removes last layer used on ImageNet dataset classification task\n",
        "    efficientnetb3_model = EfficientNetB3(include_top = False, input_shape = input_shape, pooling = 'avg')\n",
        "\n",
        "    ## unfreezing the network weights\n",
        "    efficientnetb3_model.trainable = False\n",
        "    # Unfreeze only the top layers (e.g., last 10 layers)\n",
        "    for layer in efficientnetb3_model.layers[-10:]:\n",
        "        layer.trainable = True\n",
        "\n",
        "    ## adapting the model to different input size\n",
        "    i = Input(shape=input_shape)\n",
        "    x = preprocess_input(i)\n",
        "    x = efficientnetb3_model(x, training=False) ## ensures that the batch statistics estimated by the BatchNormalization layer during original model training are not changed\n",
        "    x = Dense(2, activation='softmax')(x) ## new last layer to fits the task of the presented dataset\n",
        "    efficientnetb3_model = Model(inputs=i, outputs=x)\n",
        "\n",
        "    return efficientnetb3_model\n"
      ],
      "metadata": {
        "id": "WmSE-g0SCTsR"
      },
      "execution_count": null,
      "outputs": []
    },
    {
      "cell_type": "code",
      "source": [
        "# Choosing initial hyperparameters to construct the baseline model\n",
        "epochs = 20\n",
        "lr = 0.00001  # v low learning rate\n",
        "\n",
        "## adjusting model to the dataset/task\n",
        "input_shape = imgSize + (3,) ## (150,150,3)"
      ],
      "metadata": {
        "id": "ok1W9aZ7EDP7"
      },
      "execution_count": null,
      "outputs": []
    },
    {
      "cell_type": "code",
      "source": [
        "#creating the 1st model\n",
        "%%time\n",
        "base_model = create_efficientnetb3_model(input_shape, num_classes = 2)\n",
        "base_model.summary()\n"
      ],
      "metadata": {
        "colab": {
          "base_uri": "https://localhost:8080/",
          "height": 260
        },
        "id": "ENI1Dka9EM6w",
        "outputId": "94039019-56bd-425b-94cb-d5a5ba554e3f"
      },
      "execution_count": null,
      "outputs": [
        {
          "output_type": "display_data",
          "data": {
            "text/plain": [
              "\u001b[1mModel: \"functional_5\"\u001b[0m\n"
            ],
            "text/html": [
              "<pre style=\"white-space:pre;overflow-x:auto;line-height:normal;font-family:Menlo,'DejaVu Sans Mono',consolas,'Courier New',monospace\"><span style=\"font-weight: bold\">Model: \"functional_5\"</span>\n",
              "</pre>\n"
            ]
          },
          "metadata": {}
        },
        {
          "output_type": "display_data",
          "data": {
            "text/plain": [
              "┏━━━━━━━━━━━━━━━━━━━━━━━━━━━━━━━━━━━━━━┳━━━━━━━━━━━━━━━━━━━━━━━━━━━━━┳━━━━━━━━━━━━━━━━━┓\n",
              "┃\u001b[1m \u001b[0m\u001b[1mLayer (type)                        \u001b[0m\u001b[1m \u001b[0m┃\u001b[1m \u001b[0m\u001b[1mOutput Shape               \u001b[0m\u001b[1m \u001b[0m┃\u001b[1m \u001b[0m\u001b[1m        Param #\u001b[0m\u001b[1m \u001b[0m┃\n",
              "┡━━━━━━━━━━━━━━━━━━━━━━━━━━━━━━━━━━━━━━╇━━━━━━━━━━━━━━━━━━━━━━━━━━━━━╇━━━━━━━━━━━━━━━━━┩\n",
              "│ input_layer_10 (\u001b[38;5;33mInputLayer\u001b[0m)          │ (\u001b[38;5;45mNone\u001b[0m, \u001b[38;5;34m150\u001b[0m, \u001b[38;5;34m150\u001b[0m, \u001b[38;5;34m3\u001b[0m)         │               \u001b[38;5;34m0\u001b[0m │\n",
              "├──────────────────────────────────────┼─────────────────────────────┼─────────────────┤\n",
              "│ efficientnetb3 (\u001b[38;5;33mFunctional\u001b[0m)          │ (\u001b[38;5;45mNone\u001b[0m, \u001b[38;5;34m1536\u001b[0m)                │      \u001b[38;5;34m10,783,535\u001b[0m │\n",
              "├──────────────────────────────────────┼─────────────────────────────┼─────────────────┤\n",
              "│ dense_4 (\u001b[38;5;33mDense\u001b[0m)                      │ (\u001b[38;5;45mNone\u001b[0m, \u001b[38;5;34m2\u001b[0m)                   │           \u001b[38;5;34m3,074\u001b[0m │\n",
              "└──────────────────────────────────────┴─────────────────────────────┴─────────────────┘\n"
            ],
            "text/html": [
              "<pre style=\"white-space:pre;overflow-x:auto;line-height:normal;font-family:Menlo,'DejaVu Sans Mono',consolas,'Courier New',monospace\">┏━━━━━━━━━━━━━━━━━━━━━━━━━━━━━━━━━━━━━━┳━━━━━━━━━━━━━━━━━━━━━━━━━━━━━┳━━━━━━━━━━━━━━━━━┓\n",
              "┃<span style=\"font-weight: bold\"> Layer (type)                         </span>┃<span style=\"font-weight: bold\"> Output Shape                </span>┃<span style=\"font-weight: bold\">         Param # </span>┃\n",
              "┡━━━━━━━━━━━━━━━━━━━━━━━━━━━━━━━━━━━━━━╇━━━━━━━━━━━━━━━━━━━━━━━━━━━━━╇━━━━━━━━━━━━━━━━━┩\n",
              "│ input_layer_10 (<span style=\"color: #0087ff; text-decoration-color: #0087ff\">InputLayer</span>)          │ (<span style=\"color: #00d7ff; text-decoration-color: #00d7ff\">None</span>, <span style=\"color: #00af00; text-decoration-color: #00af00\">150</span>, <span style=\"color: #00af00; text-decoration-color: #00af00\">150</span>, <span style=\"color: #00af00; text-decoration-color: #00af00\">3</span>)         │               <span style=\"color: #00af00; text-decoration-color: #00af00\">0</span> │\n",
              "├──────────────────────────────────────┼─────────────────────────────┼─────────────────┤\n",
              "│ efficientnetb3 (<span style=\"color: #0087ff; text-decoration-color: #0087ff\">Functional</span>)          │ (<span style=\"color: #00d7ff; text-decoration-color: #00d7ff\">None</span>, <span style=\"color: #00af00; text-decoration-color: #00af00\">1536</span>)                │      <span style=\"color: #00af00; text-decoration-color: #00af00\">10,783,535</span> │\n",
              "├──────────────────────────────────────┼─────────────────────────────┼─────────────────┤\n",
              "│ dense_4 (<span style=\"color: #0087ff; text-decoration-color: #0087ff\">Dense</span>)                      │ (<span style=\"color: #00d7ff; text-decoration-color: #00d7ff\">None</span>, <span style=\"color: #00af00; text-decoration-color: #00af00\">2</span>)                   │           <span style=\"color: #00af00; text-decoration-color: #00af00\">3,074</span> │\n",
              "└──────────────────────────────────────┴─────────────────────────────┴─────────────────┘\n",
              "</pre>\n"
            ]
          },
          "metadata": {}
        },
        {
          "output_type": "display_data",
          "data": {
            "text/plain": [
              "\u001b[1m Total params: \u001b[0m\u001b[38;5;34m10,786,609\u001b[0m (41.15 MB)\n"
            ],
            "text/html": [
              "<pre style=\"white-space:pre;overflow-x:auto;line-height:normal;font-family:Menlo,'DejaVu Sans Mono',consolas,'Courier New',monospace\"><span style=\"font-weight: bold\"> Total params: </span><span style=\"color: #00af00; text-decoration-color: #00af00\">10,786,609</span> (41.15 MB)\n",
              "</pre>\n"
            ]
          },
          "metadata": {}
        },
        {
          "output_type": "display_data",
          "data": {
            "text/plain": [
              "\u001b[1m Trainable params: \u001b[0m\u001b[38;5;34m1,704,962\u001b[0m (6.50 MB)\n"
            ],
            "text/html": [
              "<pre style=\"white-space:pre;overflow-x:auto;line-height:normal;font-family:Menlo,'DejaVu Sans Mono',consolas,'Courier New',monospace\"><span style=\"font-weight: bold\"> Trainable params: </span><span style=\"color: #00af00; text-decoration-color: #00af00\">1,704,962</span> (6.50 MB)\n",
              "</pre>\n"
            ]
          },
          "metadata": {}
        },
        {
          "output_type": "display_data",
          "data": {
            "text/plain": [
              "\u001b[1m Non-trainable params: \u001b[0m\u001b[38;5;34m9,081,647\u001b[0m (34.64 MB)\n"
            ],
            "text/html": [
              "<pre style=\"white-space:pre;overflow-x:auto;line-height:normal;font-family:Menlo,'DejaVu Sans Mono',consolas,'Courier New',monospace\"><span style=\"font-weight: bold\"> Non-trainable params: </span><span style=\"color: #00af00; text-decoration-color: #00af00\">9,081,647</span> (34.64 MB)\n",
              "</pre>\n"
            ]
          },
          "metadata": {}
        },
        {
          "output_type": "stream",
          "name": "stdout",
          "text": [
            "CPU times: user 1.65 s, sys: 71.5 ms, total: 1.72 s\n",
            "Wall time: 1.7 s\n"
          ]
        }
      ]
    },
    {
      "cell_type": "code",
      "source": [
        "%%time\n",
        "##compiling and training the model\n",
        "base_model.compile(loss='categorical_crossentropy', metrics=['accuracy'], optimizer=Adam(learning_rate=lr))\n",
        "myCallbacks= [EarlyStopping(monitor='val_loss', patience=3)]\n",
        "history = base_model.fit(train_ds, validation_data=train_val_ds, epochs=epochs, batch_size=batch_size, callbacks=myCallbacks)\n",
        "#history = train(base_model, epochs, lr, train_ds, train_val_ds, batch_size)#,  [EarlyStopping(monitor='val_loss', patience=5)]\n",
        "#del base_model"
      ],
      "metadata": {
        "colab": {
          "base_uri": "https://localhost:8080/"
        },
        "id": "sW9njVuUEPXy",
        "outputId": "71bb8a6c-989e-417c-96bc-687ab970e039"
      },
      "execution_count": null,
      "outputs": [
        {
          "output_type": "stream",
          "name": "stdout",
          "text": [
            "Epoch 1/20\n",
            "\u001b[1m27/27\u001b[0m \u001b[32m━━━━━━━━━━━━━━━━━━━━\u001b[0m\u001b[37m\u001b[0m \u001b[1m47s\u001b[0m 382ms/step - accuracy: 0.5852 - loss: 0.6794 - val_accuracy: 0.8000 - val_loss: 0.5423\n",
            "Epoch 2/20\n",
            "\u001b[1m27/27\u001b[0m \u001b[32m━━━━━━━━━━━━━━━━━━━━\u001b[0m\u001b[37m\u001b[0m \u001b[1m16s\u001b[0m 50ms/step - accuracy: 0.6478 - loss: 0.6187 - val_accuracy: 0.8333 - val_loss: 0.4985\n",
            "Epoch 3/20\n",
            "\u001b[1m27/27\u001b[0m \u001b[32m━━━━━━━━━━━━━━━━━━━━\u001b[0m\u001b[37m\u001b[0m \u001b[1m3s\u001b[0m 53ms/step - accuracy: 0.6623 - loss: 0.5974 - val_accuracy: 0.8667 - val_loss: 0.4592\n",
            "Epoch 4/20\n",
            "\u001b[1m27/27\u001b[0m \u001b[32m━━━━━━━━━━━━━━━━━━━━\u001b[0m\u001b[37m\u001b[0m \u001b[1m1s\u001b[0m 52ms/step - accuracy: 0.7409 - loss: 0.5441 - val_accuracy: 0.8667 - val_loss: 0.4264\n",
            "Epoch 5/20\n",
            "\u001b[1m27/27\u001b[0m \u001b[32m━━━━━━━━━━━━━━━━━━━━\u001b[0m\u001b[37m\u001b[0m \u001b[1m3s\u001b[0m 55ms/step - accuracy: 0.7537 - loss: 0.5268 - val_accuracy: 0.8833 - val_loss: 0.3970\n",
            "Epoch 6/20\n",
            "\u001b[1m27/27\u001b[0m \u001b[32m━━━━━━━━━━━━━━━━━━━━\u001b[0m\u001b[37m\u001b[0m \u001b[1m3s\u001b[0m 84ms/step - accuracy: 0.7562 - loss: 0.5215 - val_accuracy: 0.8833 - val_loss: 0.3713\n",
            "Epoch 7/20\n",
            "\u001b[1m27/27\u001b[0m \u001b[32m━━━━━━━━━━━━━━━━━━━━\u001b[0m\u001b[37m\u001b[0m \u001b[1m2s\u001b[0m 74ms/step - accuracy: 0.8309 - loss: 0.4535 - val_accuracy: 0.8833 - val_loss: 0.3480\n",
            "Epoch 8/20\n",
            "\u001b[1m27/27\u001b[0m \u001b[32m━━━━━━━━━━━━━━━━━━━━\u001b[0m\u001b[37m\u001b[0m \u001b[1m2s\u001b[0m 45ms/step - accuracy: 0.7864 - loss: 0.4670 - val_accuracy: 0.8833 - val_loss: 0.3280\n",
            "Epoch 9/20\n",
            "\u001b[1m27/27\u001b[0m \u001b[32m━━━━━━━━━━━━━━━━━━━━\u001b[0m\u001b[37m\u001b[0m \u001b[1m1s\u001b[0m 45ms/step - accuracy: 0.8138 - loss: 0.4457 - val_accuracy: 0.9000 - val_loss: 0.3119\n",
            "Epoch 10/20\n",
            "\u001b[1m27/27\u001b[0m \u001b[32m━━━━━━━━━━━━━━━━━━━━\u001b[0m\u001b[37m\u001b[0m \u001b[1m1s\u001b[0m 44ms/step - accuracy: 0.8211 - loss: 0.4298 - val_accuracy: 0.9000 - val_loss: 0.2959\n",
            "Epoch 11/20\n",
            "\u001b[1m27/27\u001b[0m \u001b[32m━━━━━━━━━━━━━━━━━━━━\u001b[0m\u001b[37m\u001b[0m \u001b[1m2s\u001b[0m 53ms/step - accuracy: 0.8241 - loss: 0.4235 - val_accuracy: 0.9167 - val_loss: 0.2810\n",
            "Epoch 12/20\n",
            "\u001b[1m27/27\u001b[0m \u001b[32m━━━━━━━━━━━━━━━━━━━━\u001b[0m\u001b[37m\u001b[0m \u001b[1m1s\u001b[0m 43ms/step - accuracy: 0.8099 - loss: 0.3945 - val_accuracy: 0.9167 - val_loss: 0.2683\n",
            "Epoch 13/20\n",
            "\u001b[1m27/27\u001b[0m \u001b[32m━━━━━━━━━━━━━━━━━━━━\u001b[0m\u001b[37m\u001b[0m \u001b[1m1s\u001b[0m 44ms/step - accuracy: 0.8578 - loss: 0.3777 - val_accuracy: 0.9167 - val_loss: 0.2569\n",
            "Epoch 14/20\n",
            "\u001b[1m27/27\u001b[0m \u001b[32m━━━━━━━━━━━━━━━━━━━━\u001b[0m\u001b[37m\u001b[0m \u001b[1m1s\u001b[0m 44ms/step - accuracy: 0.8676 - loss: 0.3683 - val_accuracy: 0.9333 - val_loss: 0.2463\n",
            "Epoch 15/20\n",
            "\u001b[1m27/27\u001b[0m \u001b[32m━━━━━━━━━━━━━━━━━━━━\u001b[0m\u001b[37m\u001b[0m \u001b[1m1s\u001b[0m 43ms/step - accuracy: 0.8803 - loss: 0.3449 - val_accuracy: 0.9333 - val_loss: 0.2371\n",
            "Epoch 16/20\n",
            "\u001b[1m27/27\u001b[0m \u001b[32m━━━━━━━━━━━━━━━━━━━━\u001b[0m\u001b[37m\u001b[0m \u001b[1m2s\u001b[0m 55ms/step - accuracy: 0.8933 - loss: 0.3283 - val_accuracy: 0.9500 - val_loss: 0.2299\n",
            "Epoch 17/20\n",
            "\u001b[1m27/27\u001b[0m \u001b[32m━━━━━━━━━━━━━━━━━━━━\u001b[0m\u001b[37m\u001b[0m \u001b[1m2s\u001b[0m 56ms/step - accuracy: 0.8772 - loss: 0.3281 - val_accuracy: 0.9500 - val_loss: 0.2228\n",
            "Epoch 18/20\n",
            "\u001b[1m27/27\u001b[0m \u001b[32m━━━━━━━━━━━━━━━━━━━━\u001b[0m\u001b[37m\u001b[0m \u001b[1m1s\u001b[0m 46ms/step - accuracy: 0.8954 - loss: 0.3259 - val_accuracy: 0.9500 - val_loss: 0.2159\n",
            "Epoch 19/20\n",
            "\u001b[1m27/27\u001b[0m \u001b[32m━━━━━━━━━━━━━━━━━━━━\u001b[0m\u001b[37m\u001b[0m \u001b[1m1s\u001b[0m 53ms/step - accuracy: 0.9044 - loss: 0.3117 - val_accuracy: 0.9500 - val_loss: 0.2100\n",
            "Epoch 20/20\n",
            "\u001b[1m27/27\u001b[0m \u001b[32m━━━━━━━━━━━━━━━━━━━━\u001b[0m\u001b[37m\u001b[0m \u001b[1m2s\u001b[0m 44ms/step - accuracy: 0.9121 - loss: 0.2963 - val_accuracy: 0.9500 - val_loss: 0.2046\n",
            "CPU times: user 1min 6s, sys: 1.92 s, total: 1min 8s\n",
            "Wall time: 1min 33s\n"
          ]
        }
      ]
    },
    {
      "cell_type": "code",
      "source": [
        "#history = base_model.fit(train_ds, validation_data=train_val_ds, epochs=epochs, batch_size=batch_size, callbacks=myCallbacks)\n"
      ],
      "metadata": {
        "id": "5YfC2USaEl73"
      },
      "execution_count": null,
      "outputs": []
    },
    {
      "cell_type": "code",
      "source": [
        "#using model 1 to predict on ds test1\n",
        "\n",
        "_, accuracy_test = base_model.evaluate(test_ds)\n",
        "print(f'Accuracy on test set i: {accuracy_test:.6f}')"
      ],
      "metadata": {
        "colab": {
          "base_uri": "https://localhost:8080/"
        },
        "id": "XK3jnfMPGKp6",
        "outputId": "9a00e31f-f45a-4664-b335-55ea862c9354"
      },
      "execution_count": null,
      "outputs": [
        {
          "output_type": "stream",
          "name": "stdout",
          "text": [
            "\u001b[1m3/3\u001b[0m \u001b[32m━━━━━━━━━━━━━━━━━━━━\u001b[0m\u001b[37m\u001b[0m \u001b[1m0s\u001b[0m 104ms/step - accuracy: 0.9438 - loss: 0.2726\n",
            "Accuracy on test set i: 0.950000\n"
          ]
        }
      ]
    },
    {
      "cell_type": "code",
      "source": [
        "#using the model to predict on ds test2\n",
        "\n",
        "pathTest2 = '/content/drive/MyDrive/archive/test2'\n",
        "test2_df = load_dataframe(pathTest2)\n",
        "test2_ds = create_tfDataset(test2_df, imgSize, batch_size,2)\n",
        "\n",
        "_, accuracy_test = base_model.evaluate(test2_ds)\n",
        "print(f'Accuracy on test set ii: {accuracy_test:.6f}')"
      ],
      "metadata": {
        "colab": {
          "base_uri": "https://localhost:8080/"
        },
        "id": "XPXp3YN0HZv5",
        "outputId": "505dbf97-15cd-4fc0-8668-189f5434d7c6"
      },
      "execution_count": null,
      "outputs": [
        {
          "output_type": "stream",
          "name": "stdout",
          "text": [
            "\u001b[1m7/7\u001b[0m \u001b[32m━━━━━━━━━━━━━━━━━━━━\u001b[0m\u001b[37m\u001b[0m \u001b[1m1s\u001b[0m 123ms/step - accuracy: 0.9334 - loss: 0.2424\n",
            "Accuracy on test set ii: 0.942857\n"
          ]
        }
      ]
    },
    {
      "cell_type": "code",
      "source": [
        "# Confusion matrix plot\n",
        "import seaborn as sns\n",
        "from sklearn.metrics import confusion_matrix, classification_report\n",
        "import numpy as np\n",
        "\n",
        "\n",
        "y_true = np.array(test2_df[\"class\"].values) #numpy array w true labels\n",
        "\n",
        "class_names = np.array(['cats', 'dogs'])\n",
        "y_pred_prob = base_model.predict(test2_ds) #array w class prob predicted for each img\n",
        "y_pred = np.argmax(y_pred_prob, axis=1) #transforms y_pred_prob into a 1D binary array\n",
        "\n",
        "y_pred_labels = class_names[y_pred] #array w labels instead of binary\n",
        "\n",
        "cf_matrix = confusion_matrix(y_true, y_pred_labels) #creates confusion matrix\n",
        "\n",
        "plt.figure(figsize=(8, 6))\n",
        "plt.figure(figsize=(5, 4.5))\n",
        "sns.heatmap(cf_matrix, annot=True, cmap='Blues', fmt='g', cbar=True, linecolor='k',\n",
        "            xticklabels=class_names, yticklabels=class_names)\n",
        "plt.xlabel(\"Predicted labels\")\n",
        "plt.ylabel(\"True labels\")\n",
        "plt.title(\"CONFUSION MATRIX\")\n",
        "plt.show()\n",
        "print(classification_report(y_true, y_pred_labels, target_names=class_names))"
      ],
      "metadata": {
        "colab": {
          "base_uri": "https://localhost:8080/",
          "height": 640
        },
        "id": "lOYBl4OcHgCT",
        "outputId": "e28593e4-0af4-4cc2-9ff1-08b6f9768c46"
      },
      "execution_count": null,
      "outputs": [
        {
          "output_type": "stream",
          "name": "stdout",
          "text": [
            "\u001b[1m7/7\u001b[0m \u001b[32m━━━━━━━━━━━━━━━━━━━━\u001b[0m\u001b[37m\u001b[0m \u001b[1m8s\u001b[0m 27ms/step\n"
          ]
        },
        {
          "output_type": "display_data",
          "data": {
            "text/plain": [
              "<Figure size 800x600 with 0 Axes>"
            ]
          },
          "metadata": {}
        },
        {
          "output_type": "display_data",
          "data": {
            "text/plain": [
              "<Figure size 500x450 with 2 Axes>"
            ],
            "image/png": "[encoded data removed]"
          },
          "metadata": {}
        },
        {
          "output_type": "stream",
          "name": "stdout",
          "text": [
            "              precision    recall  f1-score   support\n",
            "\n",
            "        cats       0.97      0.91      0.94        70\n",
            "        dogs       0.92      0.97      0.94        70\n",
            "\n",
            "    accuracy                           0.94       140\n",
            "   macro avg       0.94      0.94      0.94       140\n",
            "weighted avg       0.94      0.94      0.94       140\n",
            "\n"
          ]
        }
      ]
    },
    {
      "cell_type": "code",
      "source": [],
      "metadata": {
        "id": "CL9tGApnH8rh"
      },
      "execution_count": null,
      "outputs": []
    }
  ]
}